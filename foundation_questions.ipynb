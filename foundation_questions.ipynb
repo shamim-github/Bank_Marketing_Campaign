{
  "cells": [
    {
      "cell_type": "markdown",
      "metadata": {
        "id": "view-in-github",
        "colab_type": "text"
      },
      "source": [
        "<a href=\"https://colab.research.google.com/github/shamim-github/Bank_Marketing_Campaign/blob/master/foundation_questions.ipynb\" target=\"_parent\"><img src=\"https://colab.research.google.com/assets/colab-badge.svg\" alt=\"Open In Colab\"/></a>"
      ]
    },
    {
      "cell_type": "markdown",
      "id": "0d9b77cf-144e-45f5-96cc-dcf22c3237e1",
      "metadata": {
        "id": "0d9b77cf-144e-45f5-96cc-dcf22c3237e1"
      },
      "source": [
        "### 1. Number Comparison\n",
        "   \n",
        "Write a program that compares two numbers and determines if they are equal, greater than, or less than each other. The program takes two integers as input and outputs a message indicating the relationship between the two numbers.\n",
        "\n",
        "Input Format:\n",
        "\n",
        "- The input consists of two integers, num1 and num2, separated by a space.\n",
        "\n",
        "\n",
        "Output Format:\n",
        "\n",
        "The program outputs a message indicating the relationship between num1 and num2. Possible output messages are:\n",
        "\n",
        "- Numbers are equal.\" if num1 equals num2.\n",
        "- First number is greater.\" if num1 is greater than num2.\n",
        "- Second number is greater.\" if num2 is greater than num1.\n",
        "\n",
        "Sample Input:\n",
        "\n",
        "10 20\n",
        "\n",
        "Sample Output:\n",
        "\n",
        "Second number is greater.\n",
        "\n",
        "Constraints:\n",
        "\n",
        "- -10^9 <= num1, num2 <= 10^9\n",
        "\n",
        "Note:The Function should print the result."
      ]
    },
    {
      "cell_type": "code",
      "execution_count": null,
      "id": "27231870-368a-4a5e-8cd0-f04f83aac1e9",
      "metadata": {
        "id": "27231870-368a-4a5e-8cd0-f04f83aac1e9"
      },
      "outputs": [],
      "source": [
        "class Solution:\n",
        "    def compare_numbers(num1, num2):\n",
        "\n",
        "      if num1 == num2:\n",
        "        print(\"Numbers are equal.\")\n",
        "      if num1 > num2:\n",
        "        print(\"First number is greater.\")\n",
        "      if num2 > num1:\n",
        "        print(\"Second number is greater.\")"
      ]
    },
    {
      "cell_type": "code",
      "execution_count": null,
      "id": "fd6726ae-a560-4941-b0d6-d8e3caf91582",
      "metadata": {
        "id": "fd6726ae-a560-4941-b0d6-d8e3caf91582",
        "outputId": "8e5f82f7-41db-41dc-995b-a27513625f02"
      },
      "outputs": [
        {
          "name": "stdout",
          "output_type": "stream",
          "text": [
            "First number is greater.\n"
          ]
        }
      ],
      "source": [
        "Solution.compare_numbers(30, 20)"
      ]
    },
    {
      "cell_type": "markdown",
      "id": "3b415fda-ba81-4b0e-bf87-1eee1d78b156",
      "metadata": {
        "id": "3b415fda-ba81-4b0e-bf87-1eee1d78b156"
      },
      "source": [
        "### 2. Average Marks\n",
        "\n",
        "You are given the marks obtained by a student in five different subjects: Mathematics (M) , Science (S), English (E), History (H), and Computer Science (C).\n",
        "The marks for each subject are integers in the range from 0 to 100 (both inclusive).\n",
        "\n",
        "Write a program that takes the student's name (as a single character) and the marks for each subject as input.\n",
        "Calculate the average of the given marks (round to the nearest integer) and print it along with the student's name.\n",
        "\n",
        "Input:\n",
        "\n",
        "- The first line contains a single character representing the student's name (e.g., 'A', 'B', 'C', etc.).\n",
        "- The next line contains five integers separated by spaces, representing the marks obtained in Mathematics, Science, English, History, and Computer Science, respectively.\n",
        "\n",
        "Output:\n",
        "\n",
        "- Print the student's name (single character) on the first line.\n",
        "- Print the integer part of the average marks (round to the nearest integer) on the second line.\n",
        "\n",
        "Example:\n",
        "\n",
        "Input:\n",
        "\n",
        "A\n",
        "81 81 81 33 63\n",
        "\n",
        "Output:\n",
        "\n",
        "A\n",
        "68\n",
        "\n",
        "Constraints:\n",
        "\n",
        "Marks for each subject lie in the range 0 to 100 (both inclusive).\n",
        "\n",
        "Note:\n",
        "- The function should print the result."
      ]
    },
    {
      "cell_type": "code",
      "execution_count": null,
      "id": "6997c6ac-01d5-41c3-b79b-811cfd0a2104",
      "metadata": {
        "id": "6997c6ac-01d5-41c3-b79b-811cfd0a2104"
      },
      "outputs": [],
      "source": [
        "class Solution:\n",
        "    @staticmethod\n",
        "    def calculate_average(name, M, S, E, H, C):\n",
        "\n",
        "      total_marks = M + S + E + H + C\n",
        "      avg_marks = total_marks/5\n",
        "\n",
        "      print(name)\n",
        "      print(round(avg_marks))"
      ]
    },
    {
      "cell_type": "code",
      "execution_count": null,
      "id": "a523ba68-df3c-472a-91ed-c581a1712ee6",
      "metadata": {
        "id": "a523ba68-df3c-472a-91ed-c581a1712ee6",
        "outputId": "e221ed33-7158-4607-818b-0de97d7a91b6"
      },
      "outputs": [
        {
          "name": "stdout",
          "output_type": "stream",
          "text": [
            "Shamim\n",
            "79\n"
          ]
        }
      ],
      "source": [
        "Solution.calculate_average(\"Shamim\", 80, 90, 75, 60, 90)"
      ]
    },
    {
      "cell_type": "markdown",
      "id": "1b6730af-3b21-4880-9c62-e36305eb8811",
      "metadata": {
        "id": "1b6730af-3b21-4880-9c62-e36305eb8811"
      },
      "source": [
        "### 3. Sum of Digits\n",
        "\n",
        "Write a program that computes the sum of the digits of an integer. The program takes an integer as input and calculates the sum of its digits.\n",
        "\n",
        "Input Format:\n",
        "\n",
        "The input consists of a single integer, N , where 0 <= N <= 10^9 .\n",
        "\n",
        "Output Format:\n",
        "\n",
        "The program outputs an integer representing the sum of the digits of the input number.\n",
        "\n",
        "Sample Input:\n",
        "\n",
        "12345\n",
        "\n",
        "Sample Output:\n",
        "\n",
        "15\n",
        "\n",
        "Constraints:\n",
        "\n",
        "0 <= N <= 10^9\n",
        "\n",
        "Note:\n",
        "- The function should return the result.\n"
      ]
    },
    {
      "cell_type": "code",
      "execution_count": null,
      "id": "72172504-2910-4ad6-8e3c-3de8ddd96c12",
      "metadata": {
        "id": "72172504-2910-4ad6-8e3c-3de8ddd96c12"
      },
      "outputs": [],
      "source": [
        "class Solution:\n",
        "    def sum_of_digits(N):\n",
        "      s = 0\n",
        "      while N != 0:\n",
        "        r = N%10\n",
        "        s += r\n",
        "        N = N//10\n",
        "      return s"
      ]
    },
    {
      "cell_type": "code",
      "execution_count": null,
      "id": "1301209c-2380-4f06-af15-8d8a489b0c34",
      "metadata": {
        "id": "1301209c-2380-4f06-af15-8d8a489b0c34",
        "outputId": "5ebca090-d2a2-423c-841d-99d4340ff1b8"
      },
      "outputs": [
        {
          "data": {
            "text/plain": [
              "8"
            ]
          },
          "execution_count": 15,
          "metadata": {},
          "output_type": "execute_result"
        }
      ],
      "source": [
        "Solution.sum_of_digits(1214)"
      ]
    },
    {
      "cell_type": "markdown",
      "id": "da97e807-d153-4f4d-9fd1-78e895623edd",
      "metadata": {
        "id": "da97e807-d153-4f4d-9fd1-78e895623edd"
      },
      "source": [
        "### 4. String Inversion\n",
        "Write a program that reverses a given string. The program takes a string as input and outputs the reversed string.\n",
        "\n",
        "Input Format:\n",
        "\n",
        "The input consists of a single string, which may contain alphabets, numbers, and special characters. The length of the string is between 1 and 1000 characters.\n",
        "\n",
        "Output Format:\n",
        "\n",
        "The program outputs a string representing the reversed version of the input string.\n",
        "\n",
        "Sample Input:\n",
        "\n",
        "Hello World!\n",
        "\n",
        "Sample Output:\n",
        "\n",
        "!dlroW olleH\n",
        "\n",
        "Constraints:\n",
        "\n",
        "1 <= Length of input string <= 1000"
      ]
    },
    {
      "cell_type": "code",
      "execution_count": null,
      "id": "1472f83d-bcdf-4f96-8582-7522876f1194",
      "metadata": {
        "id": "1472f83d-bcdf-4f96-8582-7522876f1194"
      },
      "outputs": [],
      "source": [
        "class Solution:\n",
        "    def reverseString(s):\n",
        "        new_s = ''\n",
        "        for i in range(len(s)):\n",
        "            new_s = new_s + s[-1*(i+1)]\n",
        "        return new_s"
      ]
    },
    {
      "cell_type": "code",
      "execution_count": null,
      "id": "38d39443-84e6-402a-a4b0-f98ca120b9ad",
      "metadata": {
        "id": "38d39443-84e6-402a-a4b0-f98ca120b9ad",
        "outputId": "39d6404e-7aeb-4dac-9f5e-4d2bbaaf06e0"
      },
      "outputs": [
        {
          "name": "stdout",
          "output_type": "stream",
          "text": [
            "mimahs\n"
          ]
        }
      ],
      "source": [
        "Solution.reverseString('shamim')"
      ]
    },
    {
      "cell_type": "markdown",
      "id": "7335a680-b7f5-40d5-928b-bafe3d92b3ea",
      "metadata": {
        "id": "7335a680-b7f5-40d5-928b-bafe3d92b3ea"
      },
      "source": [
        "### 5. Divisible Values Count\n",
        "\n",
        "Write a program that calculates the number of values within a given range that are divisible by a specified value.\n",
        "\n",
        "The program takes three integers as input: the start and end of the range, and the value to check for divisibility. It outputs the count of numbers within the range that are divisible by the specified value.\n",
        "\n",
        "Input Format:\n",
        "\n",
        "The input consists of three integers separated by spaces:  start  (the starting value of the range),\n",
        "end  (the ending value of the range), and  divisor  (the value to check for divisibility). All integers are within the range  -10^9  to  10^9 .\n",
        "\n",
        "Output Format:\n",
        "\n",
        "The program outputs a single integer representing the count of numbers within the range  start  \n",
        "to  end  (inclusive) that are divisible by  divisor .\n",
        "\n",
        "Sample Input:\n",
        "\n",
        "5 20 3\n",
        "\n",
        "Sample Output:\n",
        "\n",
        "5\n",
        "\n",
        "Constraints:\n",
        "\n",
        "-10^9 <= start , end , divisor <= 10^9\n",
        "\n",
        "start <= end\n",
        "\n",
        "Explanation:\n",
        "\n",
        "Input specifies a range from 5 to 20 and checks for numbers divisible by 3. The numbers within this range that are divisible by 3 are 6, 9, 12, 15, and 18, resulting in a count of 5."
      ]
    },
    {
      "cell_type": "code",
      "execution_count": 22,
      "id": "b953014d-759c-489b-87ad-6fa8e2f4efc2",
      "metadata": {
        "id": "b953014d-759c-489b-87ad-6fa8e2f4efc2"
      },
      "outputs": [],
      "source": [
        "class Solution():\n",
        "    def count_divisible(self, start, end, divisor):\n",
        "        c = 0\n",
        "        for i in range(start, end+1):\n",
        "            if i % divisor == 0:\n",
        "                c += 1\n",
        "        return c\n",
        ""
      ]
    },
    {
      "cell_type": "code",
      "source": [
        "Solution.count_divisible(Solution, 5, 20, 3)"
      ],
      "metadata": {
        "colab": {
          "base_uri": "https://localhost:8080/"
        },
        "id": "yuyQv5VhblFu",
        "outputId": "801128ab-ff12-41dc-db96-cd8e30e11b98"
      },
      "id": "yuyQv5VhblFu",
      "execution_count": 23,
      "outputs": [
        {
          "output_type": "execute_result",
          "data": {
            "text/plain": [
              "5"
            ]
          },
          "metadata": {},
          "execution_count": 23
        }
      ]
    },
    {
      "cell_type": "markdown",
      "id": "7e4b81f6-9d63-4131-abd7-7429fbcf4a58",
      "metadata": {
        "id": "7e4b81f6-9d63-4131-abd7-7429fbcf4a58"
      },
      "source": [
        "### 6. String Analysis\n",
        "Write a program that counts the number of letters, spaces, numbers, and other characters in a given input string.\n",
        "The program takes a string as input and outputs the counts of each category.\n",
        "\n",
        "Input Format:\n",
        "\n",
        "The input consists of a single string that may contain alphabets, spaces, numbers, and special characters. The length of the string is between 1 and 1000 characters.\n",
        "\n",
        "Output Format:\n",
        "\n",
        "The program outputs four integers separated by spaces, representing the counts of letters, spaces, numbers, and special characters in the input string, respectively.\n",
        "\n",
        "Sample Input:\n",
        "\n",
        "Hello World! 123\n",
        "\n",
        "Sample Output:\n",
        "\n",
        "10 2 3 1\n",
        "\n",
        "Constraints:\n",
        "\n",
        "1 <= Length of input string <= 1000\n",
        "\n",
        "Explanation:\n",
        "\n",
        "Input string is \"Hello World! 123\". The program counts 10 letters (including spaces), 2 spaces, 3 numbers, and 1 special character (the exclamation mark), resulting in the output \"10 2 3 1\"."
      ]
    },
    {
      "cell_type": "code",
      "execution_count": null,
      "id": "c6357f72-e551-4f52-a26b-360a94bfe7ba",
      "metadata": {
        "id": "c6357f72-e551-4f52-a26b-360a94bfe7ba"
      },
      "outputs": [],
      "source": [
        "class Solution:\n",
        "    def analyze_string(input_string):\n",
        "\n",
        "        a_count = 0\n",
        "        s_count = 0\n",
        "        n_count = 0\n",
        "        sp_count = 0\n",
        "\n",
        "        for char in input_string:\n",
        "            if char == ' ':\n",
        "                s_count += 1\n",
        "            elif char.isalpha():\n",
        "                a_count += 1\n",
        "            elif char.isdigit():\n",
        "                n_count += 1\n",
        "            else:\n",
        "                sp_count += 1\n",
        "\n",
        "        print(a_count, s_count, n_count, sp_count)"
      ]
    },
    {
      "cell_type": "code",
      "execution_count": null,
      "id": "0704ac40-6d40-4c49-8539-f4cab30a7839",
      "metadata": {
        "id": "0704ac40-6d40-4c49-8539-f4cab30a7839",
        "outputId": "613ddb9a-516d-4a3c-e9af-867a5a12613c"
      },
      "outputs": [
        {
          "name": "stdout",
          "output_type": "stream",
          "text": [
            "4 2 4 1\n"
          ]
        }
      ],
      "source": [
        "Solution.analyze_string('shpn 7 907!')"
      ]
    },
    {
      "cell_type": "markdown",
      "id": "3c5344ee-a6c1-4b46-b00a-d1419a6878b1",
      "metadata": {
        "id": "3c5344ee-a6c1-4b46-b00a-d1419a6878b1"
      },
      "source": [
        "### 7. Swap Two Variables\n",
        "\n",
        "Write a program that swaps the values of two variables. The program takes two variables as input and swaps their values.\n",
        "\n",
        "Input Format:\n",
        "\n",
        "The input consists of two integers, a and b, separated by a space.\n",
        "\n",
        "Output Format:\n",
        "\n",
        "The program outputs two integers, representing the swapped values of a and b, separated by a space.\n",
        "\n",
        "Sample Input:\n",
        "\n",
        "5 10\n",
        "\n",
        "Sample Output:\n",
        "\n",
        "10 5\n",
        "\n",
        "Constraints:\n",
        "\n",
        "-10^9 <= a,b <= 10^9\n",
        "\n",
        "Explanation:\n",
        "\n",
        "Input is a = 5 and b = 10. After swapping their values, the output becomes a = 10 and b = 5 ."
      ]
    },
    {
      "cell_type": "code",
      "execution_count": null,
      "id": "9116d30a-cd24-41b0-9f68-6a60959e76e5",
      "metadata": {
        "id": "9116d30a-cd24-41b0-9f68-6a60959e76e5"
      },
      "outputs": [],
      "source": [
        "class Solution:\n",
        "    def swap(a, b):\n",
        "        c = a\n",
        "        a = b\n",
        "        b = c\n",
        "        print(a, b)"
      ]
    },
    {
      "cell_type": "code",
      "execution_count": null,
      "id": "df9507ee-fdc7-46ce-8047-042c887eec64",
      "metadata": {
        "id": "df9507ee-fdc7-46ce-8047-042c887eec64",
        "outputId": "7690fdb0-9bd3-4109-90b7-00953d4dd03f"
      },
      "outputs": [
        {
          "name": "stdout",
          "output_type": "stream",
          "text": [
            "1 5\n"
          ]
        }
      ],
      "source": [
        "Solution.swap(5, 1)"
      ]
    },
    {
      "cell_type": "markdown",
      "id": "e6ff5f2a-f4b9-4252-b068-4edf185d1ed0",
      "metadata": {
        "id": "e6ff5f2a-f4b9-4252-b068-4edf185d1ed0"
      },
      "source": [
        "### 8. Print ASCII Value\n",
        "\n",
        "Write a program that prints the ASCII value of a given character. The program takes a single character as input and outputs its corresponding ASCII value.\n",
        "\n",
        "Input Format:\n",
        "\n",
        "The input consists of a single character, which can be any valid ASCII character.\n",
        "\n",
        "Output Format:\n",
        "\n",
        "The program outputs an integer representing the ASCII value of the input character.\n",
        "\n",
        "Sample Input:\n",
        "\n",
        "A\n",
        "\n",
        "Sample Output:\n",
        "\n",
        "65\n",
        "\n",
        "Constraints:\n",
        "\n",
        "The input character is a valid ASCII character.\n",
        "\n",
        "Explanation:\n",
        "\n",
        "Input is the character 'A'. The ASCII value of 'A' is 65, which is printed as the output of the program."
      ]
    },
    {
      "cell_type": "code",
      "execution_count": null,
      "id": "4fe31585-3671-440b-8fed-ee83cac4cbee",
      "metadata": {
        "id": "4fe31585-3671-440b-8fed-ee83cac4cbee"
      },
      "outputs": [],
      "source": [
        "class Solution:\n",
        "    def print_ascii_value(character):\n",
        "      print(ord(character))"
      ]
    },
    {
      "cell_type": "code",
      "execution_count": null,
      "id": "66640195-533b-486e-a463-f38e264ba5af",
      "metadata": {
        "id": "66640195-533b-486e-a463-f38e264ba5af",
        "outputId": "c6817d5a-1890-4740-e134-2c9584841002"
      },
      "outputs": [
        {
          "name": "stdout",
          "output_type": "stream",
          "text": [
            "97\n"
          ]
        }
      ],
      "source": [
        "Solution.print_ascii_value('a')"
      ]
    },
    {
      "cell_type": "markdown",
      "id": "82355bc3-a93d-4d5f-a5db-cfb92eda0e83",
      "metadata": {
        "id": "82355bc3-a93d-4d5f-a5db-cfb92eda0e83"
      },
      "source": [
        "### 9. Range Divisibility Checker\n",
        "\n",
        "Write a program that prints numbers within a specified range that are divisible by two given numbers, num1 and num2, and also divisible by both num1 and num2.\n",
        "The program takes four integers as input: the start and end of the range, num1, and num2. It outputs the numbers within the range that satisfy the divisibility criteria.\n",
        "\n",
        "Input Format:\n",
        "\n",
        "The input consists of four integers separated by spaces: start (the starting value of the range), end (the ending value of the range), num1, and num2.\n",
        "\n",
        "Output Format:\n",
        "\n",
        "The program outputs a list of numbers separated by spaces that are divisible by both num1 and num2 within the specified range.\n",
        "\n",
        "Sample Input:\n",
        "\n",
        "10 50 3 5\n",
        "\n",
        "Sample Output:\n",
        "\n",
        "15 30 45\n",
        "\n",
        "Constraints:\n",
        "\n",
        "1 <= start, end, num1, num2 <= 1000\n",
        "\n",
        "start <= end\n",
        "\n",
        "Explanation:\n",
        "\n",
        "- The input specifies a range from 10 to 50.\n",
        "- Numbers divisible by both 3 and 5 within this range are 15, 30, and 45.\n",
        "- These numbers are printed as the output of the program."
      ]
    },
    {
      "cell_type": "code",
      "execution_count": null,
      "id": "a57e7809-ab7d-4834-a287-88722a16d185",
      "metadata": {
        "id": "a57e7809-ab7d-4834-a287-88722a16d185"
      },
      "outputs": [],
      "source": [
        "class Solution:\n",
        "    def print_divisible_numbers(start, end, num1, num2):\n",
        "        ans = []\n",
        "        for i in range(start, end):\n",
        "            if i % num1 == 0:\n",
        "              if i % num2 == 0:\n",
        "                ans.append(i)\n",
        "        print(*ans)"
      ]
    },
    {
      "cell_type": "code",
      "execution_count": null,
      "id": "be1abd22-466a-4384-b1df-fb801f29c4a9",
      "metadata": {
        "id": "be1abd22-466a-4384-b1df-fb801f29c4a9",
        "outputId": "8d181fdf-617a-4dd0-eb41-97d53f85c582"
      },
      "outputs": [
        {
          "name": "stdout",
          "output_type": "stream",
          "text": [
            "15 30 45\n"
          ]
        }
      ],
      "source": [
        "Solution.print_divisible_numbers(10, 50, 3, 5)"
      ]
    },
    {
      "cell_type": "code",
      "execution_count": null,
      "id": "fc2d0343-5735-4dc9-b098-3a1ccfaab378",
      "metadata": {
        "id": "fc2d0343-5735-4dc9-b098-3a1ccfaab378"
      },
      "outputs": [],
      "source": [
        "class Solution:\n",
        "    def print_divisible_numbers(start, end, num1, num2):\n",
        "        ans = []\n",
        "        for i in range(start, end):\n",
        "            if i % num1 == 0:\n",
        "              if i % num2 == 0:\n",
        "                ans.append(i)\n",
        "        print(*ans)"
      ]
    },
    {
      "cell_type": "code",
      "execution_count": null,
      "id": "aa7cf6bf-a780-4120-994c-542acae865c3",
      "metadata": {
        "id": "aa7cf6bf-a780-4120-994c-542acae865c3",
        "outputId": "9e0306fe-43de-4472-aa90-4543d9a9f046"
      },
      "outputs": [
        {
          "name": "stdout",
          "output_type": "stream",
          "text": [
            "15 30 45\n"
          ]
        }
      ],
      "source": [
        "Solution.print_divisible_numbers(10, 50, 3 , 5)"
      ]
    },
    {
      "cell_type": "markdown",
      "id": "07be221d-e04c-4c9a-8039-4a88a7090ae3",
      "metadata": {
        "id": "07be221d-e04c-4c9a-8039-4a88a7090ae3"
      },
      "source": [
        "### 10. Time Conversion from Seconds\n",
        "\n",
        "Write a program that converts a given number of seconds into hours, minutes, and remaining seconds.\n",
        "The program takes an integer representing the total number of seconds as input and outputs the converted time in the format \"HH:MM:SS\".\n",
        "\n",
        "Input Format:\n",
        "\n",
        "The input consists of a single integer representing the total number of seconds.\n",
        "\n",
        "Output Format:\n",
        "\n",
        "The program outputs the converted time in the format \"HH:MM:SS\", where HH represents hours (00-23), MM represents minutes (00-59), and SS represents seconds (00-59).\n",
        "\n",
        "Sample Input:\n",
        "\n",
        "86399\n",
        "\n",
        "Sample Output:\n",
        "\n",
        "23:59:59\n",
        "\n",
        "Constraints:\n",
        "\n",
        "0 <= Total number of seconds <= 86399 (i.e., 23 hours, 59 minutes, and 59 seconds)\n",
        "\n",
        "Explantion:\n",
        "\n",
        "Input is 86399 seconds, which is equivalent to 23 hours, 59 minutes, and 59 seconds. The program converts this input to the output format \"HH:MM:SS\"."
      ]
    },
    {
      "cell_type": "code",
      "execution_count": null,
      "id": "82b3a596-05b9-4090-8756-29b6d4150983",
      "metadata": {
        "id": "82b3a596-05b9-4090-8756-29b6d4150983"
      },
      "outputs": [],
      "source": [
        "class Solution:\n",
        "    def convert_seconds(seconds):\n",
        "        if seconds >= 3600:\n",
        "          h = seconds // 3600\n",
        "          b = seconds % 3600\n",
        "          m = b // 60\n",
        "          s = b % 60\n",
        "          print(\"{:02d}:{:02d}:{:02d}\".format(h, m, s))\n",
        "        elif seconds >= 60:\n",
        "          m = seconds // 60\n",
        "          s = seconds % 60\n",
        "          print(\"{:02d}:{:02d}\".format(m, s))\n",
        "        else:\n",
        "          s = seconds\n",
        "          print(\"{:02d}\".format(s))"
      ]
    },
    {
      "cell_type": "code",
      "execution_count": null,
      "id": "e267579d-f7e7-47a8-ad13-a4a3dbbf0595",
      "metadata": {
        "id": "e267579d-f7e7-47a8-ad13-a4a3dbbf0595",
        "outputId": "17cc3887-76c8-49fb-919a-32e372f22703"
      },
      "outputs": [
        {
          "name": "stdout",
          "output_type": "stream",
          "text": [
            "68:07:35\n"
          ]
        }
      ],
      "source": [
        "Solution.convert_seconds(245255)"
      ]
    },
    {
      "cell_type": "code",
      "execution_count": null,
      "id": "faeb813f-8b23-4fe9-abf9-868726bc1241",
      "metadata": {
        "id": "faeb813f-8b23-4fe9-abf9-868726bc1241"
      },
      "outputs": [],
      "source": [
        "class Solution:\n",
        "    def convert_seconds(seconds):\n",
        "        if seconds >= 3600:\n",
        "          h = seconds // 3600\n",
        "          b = seconds % 3600\n",
        "          m = b // 60\n",
        "          s = b % 60\n",
        "          print(\"{:02d}:{:02d}:{:02d}\".format(h, m, s))\n",
        "        elif seconds >= 60:\n",
        "          m = seconds // 60\n",
        "          s = seconds % 60\n",
        "          print(\"{:02d}:{:02d}\".format(m, s))\n",
        "        else:\n",
        "          s = seconds\n",
        "          print(\"{:02d}\".format(s))"
      ]
    },
    {
      "cell_type": "code",
      "execution_count": null,
      "id": "ca9be025-350c-4e5d-bf66-20bef4301c3e",
      "metadata": {
        "id": "ca9be025-350c-4e5d-bf66-20bef4301c3e",
        "outputId": "fb23047d-c592-408f-d838-55b6d69157f1"
      },
      "outputs": [
        {
          "name": "stdout",
          "output_type": "stream",
          "text": [
            "01:30\n"
          ]
        }
      ],
      "source": [
        "Solution.convert_seconds(90)"
      ]
    },
    {
      "cell_type": "markdown",
      "id": "9852901d-05e3-4c1a-a8a0-fd00e98bd6e6",
      "metadata": {
        "id": "9852901d-05e3-4c1a-a8a0-fd00e98bd6e6"
      },
      "source": [
        "### 11. Convert to Lowercase\n",
        "\n",
        "Write a program that converts a given string into lowercase letters.\n",
        "The program takes a string as input and outputs the string with all uppercase letters converted to lowercase.\n",
        "\n",
        "Input Format:\n",
        "\n",
        "The input consists of a single string containing uppercase and lowercase letters, as well as other characters.\n",
        "\n",
        "Output Format:\n",
        "\n",
        "The program outputs the input string with all uppercase letters converted to lowercase, while preserving the positions of lowercase letters and other characters.\n",
        "\n",
        "Sample Input:\n",
        "\n",
        "Hello World! This Is A Sample Input String.\n",
        "\n",
        "Sample Output:\n",
        "\n",
        "hello world! this is a sample input string.\n",
        "\n",
        "Constraints:\n",
        "\n",
        "There are no specific constraints on the input string.\n",
        "\n",
        "Explanation:\n",
        "\n",
        "Input string contains both uppercase and lowercase letters, along with other characters.\n",
        "The program converts all uppercase letters to lowercase, resulting in the output string where all uppercase letters are replaced with their lowercase counterparts."
      ]
    },
    {
      "cell_type": "code",
      "execution_count": null,
      "id": "6b1da4f0-f11b-428f-8c65-2cdfed073d97",
      "metadata": {
        "id": "6b1da4f0-f11b-428f-8c65-2cdfed073d97"
      },
      "outputs": [],
      "source": [
        "class Solution:\n",
        "    def to_lowercase(self, input_str):\n",
        "        l = input_str.lower()\n",
        "        return l"
      ]
    },
    {
      "cell_type": "markdown",
      "id": "d4e98c6b-7a24-498c-a6e1-9aa714306199",
      "metadata": {
        "id": "d4e98c6b-7a24-498c-a6e1-9aa714306199"
      },
      "source": [
        "### Penultimate Word Finder\n",
        "\n",
        "Write a program that finds the penultimate word (next to last word) in a sentence.\n",
        "The program takes a sentence as input and outputs the penultimate word from the sentence.\n",
        "\n",
        "Input Format:\n",
        "\n",
        "The input consists of a single sentence containing words separated by spaces.\n",
        "\n",
        "Output Format:\n",
        "\n",
        "The program outputs the penultimate word from the input sentence.\n",
        "\n",
        "Sample Input 1:\n",
        "\n",
        "Learning programming is fun.\n",
        "\n",
        "Sample Output 1:\n",
        "\n",
        " is\n",
        "\n",
        "Constraints:\n",
        "\n",
        "- The sentence can contain alphabets, numbers, and special characters.\n",
        "- The sentence will not be empty.\n",
        "- The sentence will have at least two words.\n",
        "\n",
        "Explanation:\n",
        "\n",
        "The penultimate word is \"the\" as it is the next to last word in the sentence \"She sells seashells by the seashore.\""
      ]
    },
    {
      "cell_type": "code",
      "execution_count": null,
      "id": "240d3795-a76c-4256-bb02-506d45062def",
      "metadata": {
        "id": "240d3795-a76c-4256-bb02-506d45062def"
      },
      "outputs": [],
      "source": [
        "class Solution:\n",
        "    def find_penultimate_word(sentence):\n",
        "        words = sentence.split(\" \")\n",
        "        return words[-2]"
      ]
    },
    {
      "cell_type": "code",
      "execution_count": null,
      "id": "6b1db32c-3e19-4980-850a-4358000117ea",
      "metadata": {
        "id": "6b1db32c-3e19-4980-850a-4358000117ea",
        "outputId": "1d5849fd-aa61-4ae8-a84d-a7657a830155"
      },
      "outputs": [
        {
          "data": {
            "text/plain": [
              "'is'"
            ]
          },
          "execution_count": 5,
          "metadata": {},
          "output_type": "execute_result"
        }
      ],
      "source": [
        "Solution.find_penultimate_word(\"Learning programming is fun\")"
      ]
    },
    {
      "cell_type": "markdown",
      "id": "ff478489-f08d-4eb2-a561-dfd75841e4de",
      "metadata": {
        "id": "ff478489-f08d-4eb2-a561-dfd75841e4de"
      },
      "source": [
        "### Check Common Digit in Range\n",
        "\n",
        "Write a program that takes two integer values within a specified range as input and returns true if there is a common digit in both numbers.\n",
        "A common digit refers to any digit that is present in both numbers.\n",
        "\n",
        "Input Format:\n",
        "\n",
        "The input consists of two integer values, num1andnum2, separated by spaces. Both num1andnum2 should be within the specified range.\n",
        "\n",
        "Output Format:\n",
        "\n",
        "The program outputs either \"true\" if there is a common digit in both numbers or \"false\" otherwise.\n",
        "\n",
        "Sample Input:\n",
        "\n",
        "79 67\n",
        "\n",
        "Sample Output:\n",
        "\n",
        "true\n",
        "\n",
        "Constraints:\n",
        "\n",
        "- The range of input integers is from 0 to 1000 (inclusive).\n",
        "- Both num1andnum2 are within this range. Explanation:\n",
        "- First number is 35 and the second number is 45. Both numbers have the common digit 5, so the program outputs \"true\" indicating that there is a common digit in both numbers.\n",
        "\n",
        "Note:The Function should return the boolean value."
      ]
    },
    {
      "cell_type": "code",
      "execution_count": 7,
      "id": "51d25911-d1be-4458-844a-30448d844f6a",
      "metadata": {
        "id": "51d25911-d1be-4458-844a-30448d844f6a"
      },
      "outputs": [],
      "source": [
        "class Solution:\n",
        "    def check_common_digit(num1, num2):\n",
        "      for i in str(num1):\n",
        "        if i in str(num2):\n",
        "          return True\n",
        "        else:\n",
        "          continue"
      ]
    },
    {
      "cell_type": "code",
      "execution_count": 9,
      "id": "3f2c1914-512a-4703-97a3-acc9cbb385ab",
      "metadata": {
        "colab": {
          "base_uri": "https://localhost:8080/"
        },
        "id": "3f2c1914-512a-4703-97a3-acc9cbb385ab",
        "outputId": "abd0698a-c089-4978-9e24-abd4454b3e65"
      },
      "outputs": [
        {
          "output_type": "execute_result",
          "data": {
            "text/plain": [
              "True"
            ]
          },
          "metadata": {},
          "execution_count": 9
        }
      ],
      "source": [
        "Solution.check_common_digit(234, 343)"
      ]
    },
    {
      "cell_type": "markdown",
      "source": [
        "### Insert Word in Middle of the String\n",
        "\n",
        "Write a program that takes a string and inserts a word in the middle of the string.\n",
        "The inserted word should be placed at the middle position of the string, shifting the existing characters to accommodate the new word.\n",
        "\n",
        "Input Format:\n",
        "\n",
        "The input consists of two lines:\n",
        "1. The first line contains the original string, which always has an even number of words separated by spaces.\n",
        "2. The second line contains the word to be inserted.\n",
        "Output Format:\n",
        "\n",
        "The program outputs the modified string with the word inserted at the middle position.\n",
        "\n",
        "Sample Input:\n",
        "\n",
        "Hello World\n",
        "\n",
        "Programming\n",
        "\n",
        "Sample Output:\n",
        "\n",
        "Hello Programming World\n",
        "\n",
        "Explanation:\n",
        "\n",
        "Word \"Programming\" is inserted in the middle of the string \"Hello World\", resulting in the modified string \"Hello Programming World'\n",
        "\n",
        "Constraints:\n",
        "\n",
        "- The original string always contains an even number of words (minimum 2 words ).\n",
        "\n",
        "- Each word in the original string has a maximum length of 20 characters.\n",
        "\n",
        "- The word to be inserted has a maximum length of 20 characters.\n",
        "\n",
        "- The total length of the original string (including spaces) does not exceed 100 characters.\n",
        "\n",
        "Note: The function should print the result."
      ],
      "metadata": {
        "id": "7tM4Obu4Unrq"
      },
      "id": "7tM4Obu4Unrq"
    },
    {
      "cell_type": "code",
      "execution_count": 19,
      "id": "b741cdb6-a71c-49a7-944b-61bb24cd24c9",
      "metadata": {
        "id": "b741cdb6-a71c-49a7-944b-61bb24cd24c9"
      },
      "outputs": [],
      "source": [
        "class Solution:\n",
        "  def insert_word_middle(self, original, to_insert):\n",
        "\n",
        "    words = original.split()\n",
        "    mid = len(words) // 2\n",
        "    sentence = []\n",
        "\n",
        "    for i in range(mid):\n",
        "      sentence.append(words[i])\n",
        "\n",
        "    sentence.append(to_insert)\n",
        "\n",
        "    for i in range(mid, len(words)):\n",
        "      sentence.append(words[i])\n",
        "\n",
        "    print(*sentence)\n",
        "\n"
      ]
    },
    {
      "cell_type": "code",
      "source": [
        "Solution.insert_word_middle(Solution, 'my name is khan', 'ahmed')"
      ],
      "metadata": {
        "colab": {
          "base_uri": "https://localhost:8080/"
        },
        "id": "zQZWMRIybApe",
        "outputId": "2c9fca0e-0d7c-489b-a1dc-64af608e5e96"
      },
      "id": "zQZWMRIybApe",
      "execution_count": 21,
      "outputs": [
        {
          "output_type": "stream",
          "name": "stdout",
          "text": [
            "my name ahmed is khan\n"
          ]
        }
      ]
    },
    {
      "cell_type": "markdown",
      "source": [
        "### Even and Odd Digit Sums\n",
        "Write a program that takes an integer 'n' as input and prints the sum of all its even digits and the sum of all its odd digits separately. Digits refer to numbers, not places within the integer.\n",
        "\n",
        "Input Format:\n",
        "\n",
        "The input consists of a single integer 'n' on a single line.\n",
        "\n",
        "Output Format:\n",
        "\n",
        "The program outputs two space-separated integers on a single line:\n",
        "1. The sum of all even digits in 'n'.\n",
        "2. The sum of all odd digits in 'n'.\n",
        "Example:\n",
        "\n",
        "Input:\n",
        "\n",
        "987654\n",
        "\n",
        "Output:\n",
        "\n",
        "18 21\n",
        "\n",
        "Constraints:\n",
        "\n",
        "The length of the input digits is between 0 and 10000 inclusive.\n",
        "\n",
        "Explanation:\n",
        "\n",
        "- In the input integer 987654, the even digits are 8, 6, and 4. Their sum is 8 + 6 + 4 = 18 .\n",
        "\n",
        "- The odd digits in the input are 9, 7, and 5. Their sum is 9 + 7 + 5 = 21.\n",
        "\n",
        "- Therefore, the program outputs \"18 21\", where 18 is the sum of even digits and 21 is the sum of odd digits."
      ],
      "metadata": {
        "id": "1-arBI-Ob7Rf"
      },
      "id": "1-arBI-Ob7Rf"
    },
    {
      "cell_type": "code",
      "source": [],
      "metadata": {
        "id": "OCD3LfNKb6Pn"
      },
      "id": "OCD3LfNKb6Pn",
      "execution_count": null,
      "outputs": []
    }
  ],
  "metadata": {
    "kernelspec": {
      "display_name": "Python 3 (ipykernel)",
      "language": "python",
      "name": "python3"
    },
    "language_info": {
      "codemirror_mode": {
        "name": "ipython",
        "version": 3
      },
      "file_extension": ".py",
      "mimetype": "text/x-python",
      "name": "python",
      "nbconvert_exporter": "python",
      "pygments_lexer": "ipython3",
      "version": "3.12.4"
    },
    "colab": {
      "provenance": [],
      "include_colab_link": true
    }
  },
  "nbformat": 4,
  "nbformat_minor": 5
}
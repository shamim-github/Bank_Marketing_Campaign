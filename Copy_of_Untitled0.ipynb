{
  "nbformat": 4,
  "nbformat_minor": 0,
  "metadata": {
    "colab": {
      "provenance": [],
      "authorship_tag": "ABX9TyPkD4LPBHFhDOzqQ/uag7V0",
      "include_colab_link": true
    },
    "kernelspec": {
      "name": "python3",
      "display_name": "Python 3"
    },
    "language_info": {
      "name": "python"
    }
  },
  "cells": [
    {
      "cell_type": "markdown",
      "metadata": {
        "id": "view-in-github",
        "colab_type": "text"
      },
      "source": [
        "<a href=\"https://colab.research.google.com/github/shamim-github/Bank_Marketing_Campaign/blob/master/Copy_of_Untitled0.ipynb\" target=\"_parent\"><img src=\"https://colab.research.google.com/assets/colab-badge.svg\" alt=\"Open In Colab\"/></a>"
      ]
    },
    {
      "cell_type": "markdown",
      "source": [],
      "metadata": {
        "id": "RRJtKVtVp2lg"
      }
    },
    {
      "cell_type": "code",
      "source": [
        "def calculate_winning_price(prices, bids, total_offered_qty, cut_off_percent):\n",
        "\n",
        "    # Calculate demand quantities for each price point (row-wise totals)\n",
        "    demand_quantity = [sum(price_bids) for price_bids in bids]\n",
        "\n",
        "    # Calculate cut-off quantity\n",
        "    cut_off_qty = total_offered_qty * cut_off_percent\n",
        "\n",
        "    # Initialize values for comparison\n",
        "    winning_price_point = None\n",
        "    winning_allocations = []\n",
        "    max_value = 0\n",
        "\n",
        "    for i in range(len(prices)):\n",
        "        price = prices[i]\n",
        "        bids_at_price = bids[i]\n",
        "\n",
        "        if demand_quantity[i] < cut_off_qty:\n",
        "            # Scenario 1: Demand is less than cut-off quantity\n",
        "            continue\n",
        "        elif cut_off_qty <= demand_quantity[i] <= total_offered_qty:\n",
        "            # Scenario 2: Demand is between cut-off and offered quantity\n",
        "            allocations = bids_at_price\n",
        "            total_value = demand_quantity[i] * price\n",
        "        elif demand_quantity[i] > total_offered_qty:\n",
        "            # Scenario 3: Demand is more than total offered quantity\n",
        "            prorate_factor = total_offered_qty / demand_quantity[i]\n",
        "            allocations = [bid * prorate_factor for bid in bids_at_price]\n",
        "            total_value = sum(allocations) * price\n",
        "        else:\n",
        "            continue\n",
        "\n",
        "        # Update the winning price point based on value and allocation\n",
        "        if total_value > max_value or (\n",
        "            total_value == max_value and sum(allocations) > sum(winning_allocations)\n",
        "        ):\n",
        "            max_value = total_value\n",
        "            winning_price_point = price\n",
        "            winning_allocations = allocations\n",
        "\n",
        "    # Calculate individual values for the winning price point\n",
        "    individual_values = [winning_price_point * allocation for allocation in winning_allocations]\n",
        "\n",
        "    # Calculate total allocated quantity and total value for the winning price point\n",
        "    total_allocated_qty = sum(winning_allocations)\n",
        "    total_value = sum(individual_values)\n",
        "\n",
        "    # Return the results\n",
        "    return {\n",
        "        \"winning_price_point\": winning_price_point,\n",
        "        \"winning_allocated_quantities\": winning_allocations,\n",
        "        \"total_allocated_quantity\": total_allocated_qty,\n",
        "        \"individual_values\": individual_values,\n",
        "        \"total_value\": total_value\n",
        "    }"
      ],
      "metadata": {
        "id": "Xvs8R6OEYnV0"
      },
      "execution_count": 53,
      "outputs": []
    },
    {
      "cell_type": "code",
      "source": [
        "# Scenario 1\n",
        "\n",
        "total_offered_qty = 100000\n",
        "cut_off_percent = 0.8\n",
        "\n",
        "prices = [100, 110, 120, 130, 140, 150, 160, 170, 180, 190, 200]\n",
        "bids = [\n",
        "    [30000, 10000, 10000],\n",
        "    [30000, 10000, 10000],\n",
        "    [30000, 10000, 10000],\n",
        "    [30000, 10000, 10000],\n",
        "    [30000, 10000, 10000],\n",
        "    [30000, 10000, 10000],\n",
        "    [30000, 10000, 10000],\n",
        "    [30000, 10000, 10000],\n",
        "    [30000, 10000, 10000],\n",
        "    [0, 0, 0],\n",
        "    [0, 0, 0]\n",
        "]\n",
        "\n",
        "# Execute the function\n",
        "results = calculate_winning_price(prices, bids, total_offered_qty, cut_off_percent)\n",
        "\n",
        "# Print results with each key-value pair on a new line\n",
        "print(\"Winning Price Point:\", results[\"winning_price_point\"])\n",
        "print(\"Winning Allocated Quantities:\", results[\"winning_allocated_quantities\"])\n",
        "print(\"Total Allocated Quantity:\", results[\"total_allocated_quantity\"])\n",
        "print(\"Individual Values:\", results[\"individual_values\"])\n",
        "print(\"Total Value:\", results[\"total_value\"])\n"
      ],
      "metadata": {
        "colab": {
          "base_uri": "https://localhost:8080/"
        },
        "id": "RhV4ma6JYokW",
        "outputId": "ca82804c-ca9b-4dfd-d912-a95d0a129dd0"
      },
      "execution_count": 54,
      "outputs": [
        {
          "output_type": "stream",
          "name": "stdout",
          "text": [
            "Winning Price Point: None\n",
            "Winning Allocated Quantities: []\n",
            "Total Allocated Quantity: 0\n",
            "Individual Values: []\n",
            "Total Value: 0\n"
          ]
        }
      ]
    },
    {
      "cell_type": "code",
      "source": [
        "# Scenario 2\n",
        "\n",
        "total_offered_qty = 100000\n",
        "cut_off_percent = 0.8\n",
        "\n",
        "prices = [100, 110, 120, 130, 140, 150, 160, 170, 180, 190, 200]\n",
        "bids = [\n",
        "    [40000, 30000, 30000],\n",
        "    [35000, 30000, 28000],\n",
        "    [33000, 30000, 28000],\n",
        "    [33000, 27000, 28000],\n",
        "    [33000, 27000, 25000],\n",
        "    [30000, 27000, 25000],\n",
        "    [30000, 26000, 25000],\n",
        "    [25000, 15000, 15000],\n",
        "    [25000, 12000, 15000],\n",
        "    [25000, 11000, 10000],\n",
        "    [15000, 10000, 10000]\n",
        "]\n",
        "\n",
        "\n",
        "# Execute the function\n",
        "results = calculate_winning_price(prices, bids, total_offered_qty, cut_off_percent)\n",
        "\n",
        "# Print results with each key-value pair on a new line\n",
        "print(\"Winning Price Point:\", results[\"winning_price_point\"])\n",
        "print(\"Winning Allocated Quantities:\", results[\"winning_allocated_quantities\"])\n",
        "print(\"Total Allocated Quantity:\", results[\"total_allocated_quantity\"])\n",
        "print(\"Individual Values:\", results[\"individual_values\"])\n",
        "print(\"Total Value:\", results[\"total_value\"])\n"
      ],
      "metadata": {
        "colab": {
          "base_uri": "https://localhost:8080/"
        },
        "id": "4oRy4WxHan1g",
        "outputId": "4c6bcc21-f176-4ca4-eb20-94792de6377d"
      },
      "execution_count": 55,
      "outputs": [
        {
          "output_type": "stream",
          "name": "stdout",
          "text": [
            "Winning Price Point: 160\n",
            "Winning Allocated Quantities: [30000, 26000, 25000]\n",
            "Total Allocated Quantity: 81000\n",
            "Individual Values: [4800000, 4160000, 4000000]\n",
            "Total Value: 12960000\n"
          ]
        }
      ]
    },
    {
      "cell_type": "code",
      "source": [
        "# Scenario 3\n",
        "\n",
        "total_offered_qty = 100000\n",
        "cut_off_percent = 0.8\n",
        "\n",
        "prices = [100, 110, 120, 130, 140, 150, 160, 170, 180, 190, 200]\n",
        "bids = [\n",
        "    [50000, 30000, 18000],\n",
        "    [50000, 30000, 18000],\n",
        "    [45000, 30000, 18000],\n",
        "    [45000, 28000, 17000],\n",
        "    [45000, 28000, 17000],\n",
        "    [45000, 28000, 17000],\n",
        "    [45000, 28000, 16250],\n",
        "    [42000, 27000, 15000],\n",
        "    [35000, 27000, 14000],\n",
        "    [35000, 27000, 12000],\n",
        "    [35000, 26000, 10000]\n",
        "]\n",
        "\n",
        "\n",
        "# Execute the function\n",
        "results = calculate_winning_price(prices, bids, total_offered_qty, cut_off_percent)\n",
        "\n",
        "# Print results with each key-value pair on a new line\n",
        "print(\"Winning Price Point:\", results[\"winning_price_point\"])\n",
        "print(\"Winning Allocated Quantities:\", results[\"winning_allocated_quantities\"])\n",
        "print(\"Total Allocated Quantity:\", results[\"total_allocated_quantity\"])\n",
        "print(\"Individual Values:\", results[\"individual_values\"])\n",
        "print(\"Total Value:\", results[\"total_value\"])\n"
      ],
      "metadata": {
        "colab": {
          "base_uri": "https://localhost:8080/"
        },
        "id": "DgvCA1QAe3cW",
        "outputId": "dec12adf-5af7-434f-a13b-ee29def4d4c3"
      },
      "execution_count": 56,
      "outputs": [
        {
          "output_type": "stream",
          "name": "stdout",
          "text": [
            "Winning Price Point: 160\n",
            "Winning Allocated Quantities: [45000, 28000, 16250]\n",
            "Total Allocated Quantity: 89250\n",
            "Individual Values: [7200000, 4480000, 2600000]\n",
            "Total Value: 14280000\n"
          ]
        }
      ]
    },
    {
      "cell_type": "code",
      "source": [
        "# Scenario 4\n",
        "\n",
        "total_offered_qty = 100000\n",
        "cut_off_percent = 0.8\n",
        "\n",
        "prices = [100, 110, 120, 130, 140, 150, 160, 170, 180, 190, 200]\n",
        "bids = [\n",
        "    [50000, 50000, 40000],\n",
        "    [48000, 40000, 40000],\n",
        "    [48000, 38000, 40000],\n",
        "    [45000, 38000, 35000],\n",
        "    [45000, 35000, 35000],\n",
        "    [42000, 35000, 32000],\n",
        "    [42000, 32000, 32000],\n",
        "    [42000, 31000, 25000],\n",
        "    [35000, 30000, 28000],\n",
        "    [23000, 22000, 28000],\n",
        "    [20000, 15000, 25000]\n",
        "]\n",
        "\n",
        "\n",
        "# Execute the function\n",
        "results = calculate_winning_price(prices, bids, total_offered_qty, cut_off_percent)\n",
        "\n",
        "# Print results with each key-value pair on a new line\n",
        "print(\"Winning Price Point:\", results[\"winning_price_point\"])\n",
        "print(\"Winning Allocated Quantities:\", results[\"winning_allocated_quantities\"])\n",
        "print(\"Total Allocated Quantity:\", results[\"total_allocated_quantity\"])\n",
        "print(\"Individual Values:\", results[\"individual_values\"])\n",
        "print(\"Total Value:\", results[\"total_value\"])\n"
      ],
      "metadata": {
        "colab": {
          "base_uri": "https://localhost:8080/"
        },
        "id": "tVJn178Qfmfg",
        "outputId": "f48aebc0-f93c-431d-e667-18212d6bc2ad"
      },
      "execution_count": 57,
      "outputs": [
        {
          "output_type": "stream",
          "name": "stdout",
          "text": [
            "Winning Price Point: 180\n",
            "Winning Allocated Quantities: [35000, 30000, 28000]\n",
            "Total Allocated Quantity: 93000\n",
            "Individual Values: [6300000, 5400000, 5040000]\n",
            "Total Value: 16740000\n"
          ]
        }
      ]
    },
    {
      "cell_type": "code",
      "source": [
        "# Scenario 5\n",
        "\n",
        "total_offered_qty = 100000\n",
        "cut_off_percent = 0.8\n",
        "\n",
        "prices = [100, 110, 120, 130, 140, 150, 160, 170, 180, 190, 200]\n",
        "bids = [\n",
        "    [60000, 30000, 18000],\n",
        "    [60000, 30000, 15000],\n",
        "    [45000, 30000, 18000],\n",
        "    [45000, 28000, 17000],\n",
        "    [45000, 28000, 17000],\n",
        "    [45000, 28000, 17000],\n",
        "    [45000, 28000, 16250],\n",
        "    [42000, 27000, 15000],\n",
        "    [35000, 27000, 14000],\n",
        "    [35000, 27000, 12000],\n",
        "    [35000, 26000, 10000]\n",
        "]\n",
        "\n",
        "\n",
        "# Execute the function\n",
        "results = calculate_winning_price(prices, bids, total_offered_qty, cut_off_percent)\n",
        "\n",
        "# Print results with each key-value pair on a new line\n",
        "print(\"Winning Price Point:\", results[\"winning_price_point\"])\n",
        "print(\"Winning Allocated Quantities:\", results[\"winning_allocated_quantities\"])\n",
        "print(\"Total Allocated Quantity:\", results[\"total_allocated_quantity\"])\n",
        "print(\"Individual Values:\", results[\"individual_values\"])\n",
        "print(\"Total Value:\", results[\"total_value\"])\n"
      ],
      "metadata": {
        "colab": {
          "base_uri": "https://localhost:8080/"
        },
        "id": "I1qOAnCggTzy",
        "outputId": "f0c91f2c-9681-4fa8-ff25-68f9c42d026b"
      },
      "execution_count": 58,
      "outputs": [
        {
          "output_type": "stream",
          "name": "stdout",
          "text": [
            "Winning Price Point: 160\n",
            "Winning Allocated Quantities: [45000, 28000, 16250]\n",
            "Total Allocated Quantity: 89250\n",
            "Individual Values: [7200000, 4480000, 2600000]\n",
            "Total Value: 14280000\n"
          ]
        }
      ]
    },
    {
      "cell_type": "code",
      "source": [
        "# Scenario 6\n",
        "\n",
        "total_offered_qty = 100000\n",
        "cut_off_percent = 0.8\n",
        "\n",
        "prices = [100, 110, 120, 130, 140, 150, 160, 170, 180, 190, 200]\n",
        "bids = [\n",
        "    [50000, 45000, 40000],\n",
        "    [40000, 40000, 40000],\n",
        "    [40000, 40000, 40000],\n",
        "    [40000, 40000, 40000],\n",
        "    [40000, 40000, 40000],\n",
        "    [40000, 40000, 40000],\n",
        "    [40000, 30000, 35000],\n",
        "    [40000, 20000, 0],\n",
        "    [40000, 20000, 0],\n",
        "    [30000, 0, 0],\n",
        "    [0, 0, 0]\n",
        "]\n",
        "\n",
        "\n",
        "# Execute the function\n",
        "results = calculate_winning_price(prices, bids, total_offered_qty, cut_off_percent)\n",
        "\n",
        "# Print results with each key-value pair on a new line\n",
        "print(\"Winning Price Point:\", results[\"winning_price_point\"])\n",
        "print(\"Winning Allocated Quantities:\", results[\"winning_allocated_quantities\"])\n",
        "print(\"Total Allocated Quantity:\", results[\"total_allocated_quantity\"])\n",
        "print(\"Individual Values:\", results[\"individual_values\"])\n",
        "print(\"Total Value:\", results[\"total_value\"])\n"
      ],
      "metadata": {
        "colab": {
          "base_uri": "https://localhost:8080/"
        },
        "id": "QIxCwaRFgf_t",
        "outputId": "2df20f03-8e23-40ce-cbbf-c5b570dfe8ac"
      },
      "execution_count": 59,
      "outputs": [
        {
          "output_type": "stream",
          "name": "stdout",
          "text": [
            "Winning Price Point: 160\n",
            "Winning Allocated Quantities: [38095.23809523809, 28571.42857142857, 33333.33333333333]\n",
            "Total Allocated Quantity: 99999.99999999999\n",
            "Individual Values: [6095238.095238095, 4571428.571428571, 5333333.333333332]\n",
            "Total Value: 15999999.999999998\n"
          ]
        }
      ]
    },
    {
      "cell_type": "code",
      "source": [
        "# Scenario 7\n",
        "\n",
        "total_offered_qty = 100000\n",
        "cut_off_percent = 0.8\n",
        "\n",
        "prices = [100, 110, 120, 130, 140, 150, 160, 170, 180, 190, 200]\n",
        "bids = [\n",
        "    [50000, 45000, 40000],\n",
        "    [40000, 40000, 40000],\n",
        "    [40000, 40000, 40000],\n",
        "    [40000, 40000, 40000],\n",
        "    [40000, 40000, 40000],\n",
        "    [40000, 40000, 40000],\n",
        "    [40000, 30000, 35000],\n",
        "    [40000, 30000, 35000],\n",
        "    [40000, 20000, 0],\n",
        "    [30000, 0, 0],\n",
        "    [0, 0, 0]\n",
        "]\n",
        "\n",
        "\n",
        "# Execute the function\n",
        "results = calculate_winning_price(prices, bids, total_offered_qty, cut_off_percent)\n",
        "\n",
        "# Print results with each key-value pair on a new line\n",
        "print(\"Winning Price Point:\", results[\"winning_price_point\"])\n",
        "print(\"Winning Allocated Quantities:\", results[\"winning_allocated_quantities\"])\n",
        "print(\"Total Allocated Quantity:\", results[\"total_allocated_quantity\"])\n",
        "print(\"Individual Values:\", results[\"individual_values\"])\n",
        "print(\"Total Value:\", results[\"total_value\"])\n"
      ],
      "metadata": {
        "colab": {
          "base_uri": "https://localhost:8080/"
        },
        "id": "3fFleQnCgiVM",
        "outputId": "075301e7-6ee7-4d4d-a3f9-ac7393662566"
      },
      "execution_count": 60,
      "outputs": [
        {
          "output_type": "stream",
          "name": "stdout",
          "text": [
            "Winning Price Point: 170\n",
            "Winning Allocated Quantities: [38095.23809523809, 28571.42857142857, 33333.33333333333]\n",
            "Total Allocated Quantity: 99999.99999999999\n",
            "Individual Values: [6476190.476190476, 4857142.857142856, 5666666.666666666]\n",
            "Total Value: 17000000.0\n"
          ]
        }
      ]
    },
    {
      "cell_type": "code",
      "source": [
        "# Scenario 8\n",
        "\n",
        "total_offered_qty = 100000\n",
        "cut_off_percent = 0.8\n",
        "\n",
        "prices = [100, 110, 120, 130, 140, 150, 160, 170, 180, 190, 200]\n",
        "bids = [\n",
        "    [30000, 45000, 40000],\n",
        "    [30000, 46000, 40000],\n",
        "    [40000, 40000, 40000],\n",
        "    [40000, 40000, 40000],\n",
        "    [50000, 40000, 40000],\n",
        "    [40000, 50000, 50000],\n",
        "    [30000, 10000, 35000],\n",
        "    [30000, 10000, 0],\n",
        "    [30000, 10000, 0],\n",
        "    [30000, 0, 0],\n",
        "    [0, 0, 0]\n",
        "]\n",
        "\n",
        "\n",
        "# Execute the function\n",
        "results = calculate_winning_price(prices, bids, total_offered_qty, cut_off_percent)\n",
        "\n",
        "# Print results with each key-value pair on a new line\n",
        "print(\"Winning Price Point:\", results[\"winning_price_point\"])\n",
        "print(\"Winning Allocated Quantities:\", results[\"winning_allocated_quantities\"])\n",
        "print(\"Total Allocated Quantity:\", results[\"total_allocated_quantity\"])\n",
        "print(\"Individual Values:\", results[\"individual_values\"])\n",
        "print(\"Total Value:\", results[\"total_value\"])\n"
      ],
      "metadata": {
        "colab": {
          "base_uri": "https://localhost:8080/"
        },
        "id": "y6XJG9B0gj8Y",
        "outputId": "fc3a8078-e1ec-4a35-fac0-84aca55ca473"
      },
      "execution_count": 63,
      "outputs": [
        {
          "output_type": "stream",
          "name": "stdout",
          "text": [
            "Winning Price Point: 100\n",
            "Winning Allocated Quantities: [26086.95652173913, 39130.434782608696, 34782.608695652176]\n",
            "Total Allocated Quantity: 100000.0\n",
            "Individual Values: [2608695.6521739126, 3913043.4782608696, 3478260.8695652178]\n",
            "Total Value: 10000000.0\n"
          ]
        }
      ]
    },
    {
      "cell_type": "code",
      "source": [
        "def calculate_winning_price(prices, bids, total_offered_qty, cut_off_percent):\n",
        "\n",
        "    # Calculate demand quantities for each price point (row-wise totals)\n",
        "    demand_quantity = [sum(price_bids) for price_bids in bids]\n",
        "\n",
        "    # Calculate cut-off quantity\n",
        "    cut_off_qty = total_offered_qty * cut_off_percent\n",
        "\n",
        "    # Initialize variables\n",
        "    winning_price_point = None\n",
        "    winning_allocations = []\n",
        "    closest_demand_diff = float('inf')  # Difference between demand and offered qty\n",
        "    max_value = 0\n",
        "\n",
        "    for i in range(len(prices)):\n",
        "        price = prices[i]\n",
        "        bids_at_price = bids[i]\n",
        "\n",
        "        if demand_quantity[i] < cut_off_qty:\n",
        "            # Scenario 1: Demand is less than cut-off quantity\n",
        "            continue\n",
        "        elif cut_off_qty <= demand_quantity[i] <= total_offered_qty:\n",
        "            # Scenario 2: Demand is between cut-off and offered quantity\n",
        "            allocations = bids_at_price\n",
        "            total_value = demand_quantity[i] * price\n",
        "            demand_diff = abs(demand_quantity[i] - total_offered_qty)\n",
        "        elif demand_quantity[i] > total_offered_qty:\n",
        "            # Scenario 3: Demand is more than total offered quantity\n",
        "            prorate_factor = total_offered_qty / demand_quantity[i]\n",
        "            allocations = [bid * prorate_factor for bid in bids_at_price]\n",
        "            total_value = sum(allocations) * price\n",
        "            demand_diff = abs(demand_quantity[i] - total_offered_qty)\n",
        "\n",
        "        # Update winning price point based on closest demand difference and value\n",
        "        if demand_diff < closest_demand_diff or (\n",
        "            demand_diff == closest_demand_diff and total_value > max_value\n",
        "        ):\n",
        "            closest_demand_diff = demand_diff\n",
        "            max_value = total_value\n",
        "            winning_price_point = price\n",
        "            winning_allocations = allocations\n",
        "\n",
        "    # Calculate individual values for the winning price point\n",
        "    individual_values = [winning_price_point * allocation for allocation in winning_allocations]\n",
        "\n",
        "    # Calculate total allocated quantity and total value for the winning price point\n",
        "    total_allocated_qty = sum(winning_allocations)\n",
        "    total_value = sum(individual_values)\n",
        "\n",
        "    # Return the results\n",
        "    return {\n",
        "        \"winning_price_point\": winning_price_point,\n",
        "        \"winning_allocated_quantities\": winning_allocations,\n",
        "        \"total_allocated_quantity\": total_allocated_qty,\n",
        "        \"individual_values\": individual_values,\n",
        "        \"total_value\": total_value\n",
        "    }"
      ],
      "metadata": {
        "id": "7xPLt9IPk6j3"
      },
      "execution_count": 62,
      "outputs": []
    }
  ]
}